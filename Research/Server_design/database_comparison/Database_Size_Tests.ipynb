{
 "cells": [
  {
   "cell_type": "markdown",
   "metadata": {},
   "source": [
    "# Prerequisites\n",
    "\n",
    "1. All the databases are installed on the system.\n",
    "2. All the script are written in Python 3.\n",
    "3. All the required python libraries are explicitly installed.\n"
   ]
  },
  {
   "cell_type": "markdown",
   "metadata": {},
   "source": [
    "# Data-generation\n",
    "\n",
    "```\n",
    "TimeUTC, Value1, Value2\n",
    "1537282851165, 1, 2\n",
    "```\n",
    "Sample of Data.\n",
    "\n",
    "All the data are geneated in the folder of \"./data\"."
   ]
  },
  {
   "cell_type": "code",
   "execution_count": null,
   "metadata": {},
   "outputs": [],
   "source": [
    "import csv\n",
    "import os\n",
    "#import date\n",
    "\n",
    "directory = \"data\"\n",
    "input_data = [1, 1000, 10000, 100000, 1000000, 10000000, 100000000]\n",
    "end_time = 1537282851165 #ms\n",
    "\n",
    "if not os.path.exists(directory): \n",
    "    os.makedirs(directory) \n",
    "for i in input_data:\n",
    "    file_name = str(i)+'.csv'\n",
    "    \n",
    "    file_path = directory +'/'+file_name \n",
    "    with open(file_path, 'w', newline='') as f:\n",
    "        writer = csv.writer(f, delimiter=',')\n",
    "        for k in range(i):\n",
    "            line = []\n",
    "            line.append(end_time-k)\n",
    "            line.append(i-k)\n",
    "            line.append(k)\n",
    "            writer.writerow(line)"
   ]
  },
  {
   "cell_type": "markdown",
   "metadata": {},
   "source": [
    "# SQLite Database Size Tests"
   ]
  },
  {
   "cell_type": "code",
   "execution_count": null,
   "metadata": {},
   "outputs": [],
   "source": [
    "import sqlite3\n",
    "import os\n",
    "\n",
    "sqlite_import_cmd = \"\"\"CREATE TABLE mac_water_data_{0} (time varchar(255) not null, valeu1 varchar(255) not null);\n",
    ".mode csv\n",
    ".import data/{0}.csv mac_water_data_{0}\"\"\"\n",
    "\n",
    "database_dir = \"sqlite_database\"\n",
    "\n",
    "if not os.path.exists(database_dir): \n",
    "    os.makedirs(database_dir)\n",
    "input_data = [1, 1000, 10000, 100000, 1000000, 10000000, 100000000]\n",
    "for i in input_data:\n",
    "    sql_cmd = sqlite_import_cmd.format(i)\n",
    "    file_path = database_dir +'/'+str(i)+\".sql\" \n",
    "    with open(file_path, 'w', newline='') as f:\n",
    "        f.write(sql_cmd)\n",
    "        f.close()\n",
    "    database = \"sqlite_database\"+\"/\"+str(i)+\".db\"\n",
    "    cmd = \"sqlite3 \"+ database +\" < \"+ file_path\n",
    "    #sqlite3.exe test.sqlite < import.sql\n",
    "    os.system(cmd)"
   ]
  },
  {
   "cell_type": "code",
   "execution_count": null,
   "metadata": {
    "scrolled": true
   },
   "outputs": [],
   "source": [
    "%%sh\n",
    "du -sh sqlite_database/*.db"
   ]
  },
  {
   "cell_type": "markdown",
   "metadata": {},
   "source": [
    "# ElasticSearch Database Size Tests"
   ]
  },
  {
   "cell_type": "code",
   "execution_count": null,
   "metadata": {},
   "outputs": [],
   "source": [
    "from elasticsearch import helpers, Elasticsearch\n",
    "import csv\n",
    "\n",
    "es = Elasticsearch()\n",
    "input_data = [1, 1000, 10000, 100000, 1000000, 10000000, 10000000, 100000000]\n",
    "for i in input_data:\n",
    "    print(i)\n",
    "    with open('data/'+str(i)+'.csv') as f:\n",
    "        reader = csv.DictReader(f)\n",
    "        helpers.bulk(es, reader, index='mac_water_'+str(i), doc_type='my-type')"
   ]
  },
  {
   "cell_type": "markdown",
   "metadata": {},
   "source": [
    "# InfluxDB Database Size Tests"
   ]
  },
  {
   "cell_type": "code",
   "execution_count": null,
   "metadata": {},
   "outputs": [
    {
     "name": "stdout",
     "output_type": "stream",
     "text": [
      "data/10000000.csv\n",
      "data/100000000.csv\n"
     ]
    }
   ],
   "source": [
    "import requests\n",
    "import csv\n",
    "input_data =[1, 1000, 10000, 100000, 1000000, 10000000, 100000000]\n",
    "for i in input_data:\n",
    "    filename = \"data/\"+str(i)+\".csv\"\n",
    "    url_string = 'http://localhost:8086/write?db=mac_water_{0}'.format(str(i))\n",
    "    print(filename)\n",
    "    with open(filename, 'r', newline='') as csvfile:\n",
    "        rows = csv.reader(csvfile, delimiter=',')\n",
    "        for row in rows:\n",
    "            data_string = 'mac_water,v=serverError value={0}'.format(row[1])\n",
    "            requests.post(url_string, data=data_string)\n",
    "    csvfile.close()"
   ]
  },
  {
   "cell_type": "markdown",
   "metadata": {},
   "source": [
    "# OpenTDBS Database size Tests\n",
    "\n",
    "The format is the same as the Telnet put interface.\n",
    "\n",
    "`<metric> <timestamp> <value> <tagk=tagv> [<tagkN=tagvN>]`\n",
    "Where:\n",
    "\n",
    "1. metric Is the name of the metric. Note that the metric name may not include spaces.\n",
    "2. timestamp Is the absolute timestamp of the data point in seconds or milliseconds\n",
    "3. value Is the value to store\n",
    "4. tagk=tagv Is a pair of one or more space sparate tag name and value pairs. Note that the tags may not have spaces in them.\n",
    "Example:\n",
    "mac_water_1 1356998400 42 value1=24 \n"
   ]
  },
  {
   "cell_type": "code",
   "execution_count": null,
   "metadata": {},
   "outputs": [],
   "source": [
    "import csv\n",
    "import os\n",
    "#import date\n",
    "\n",
    "directory = \"data/opentsdb\"\n",
    "input_data = [1, 1000, 10000, 100000, 1000000, 10000000, 100000000]\n",
    "end_time = 1537282851165 #ms\n",
    "\n",
    "if not os.path.exists(directory): \n",
    "    os.makedirs(directory) \n",
    "for i in input_data:\n",
    "    file_name = str(i)+'.gz'\n",
    "    \n",
    "    file_path = directory +'/'+file_name \n",
    "    with open(file_path, 'w', newline='') as f:\n",
    "        writer = csv.writer(f, delimiter=',')\n",
    "        for k in range(i):\n",
    "            line = []\n",
    "            line.append('mac.water.'+str(i))\n",
    "            line.append(end_time-k)\n",
    "            line.append(i-k)\n",
    "            #line.append('value1={0}'.format(k))\n",
    "            writer.writerow(line)"
   ]
  },
  {
   "cell_type": "code",
   "execution_count": null,
   "metadata": {},
   "outputs": [],
   "source": [
    "%%sh\n",
    "./tsdb import file"
   ]
  },
  {
   "cell_type": "markdown",
   "metadata": {},
   "source": [
    "# RDDTool\n",
    "\n",
    "refer: https://apfelboymchen.net/gnu/rrd/create/\n",
    "`rrdtool create arpcache.rrd \\\n",
    "        --step 1 \\\n",
    "        DS:num:GAUGE:600:U:U \\\n",
    "        RRA:AVERAGE:0.5:1:2016\n",
    "`\n",
    "`rrdtool create mac_water_10000000.rrd --step 1 DS:num:GAUGE:600:U:U  RRA:AVERAGE:0.5:1:10000000`\n",
    "\n",
    "`rrdtool create mac_water_1000000.rrd --step 1 DS:num:GAUGE:600:U:U  RRA:AVERAGE:0.5:1:1000000`\n",
    "\n",
    "`rrdtool create mac_water_100000.rrd --step 1 DS:num:GAUGE:600:U:U  RRA:AVERAGE:0.5:1:100000`\n",
    "\n",
    "`rrdtool create mac_water_10000.rrd --step 1 DS:num:GAUGE:600:U:U  RRA:AVERAGE:0.5:1:10000`\n",
    "\n",
    "`rrdtool create mac_water_1000.rrd --step 1 DS:num:GAUGE:600:U:U  RRA:AVERAGE:0.5:1:1000`\n",
    "\n",
    "`rrdtool create mac_water_1.rrd --step 1 DS:num:GAUGE:600:U:U  RRA:AVERAGE:0.5:1:1`\n",
    "\n",
    "\n",
    "result:\n",
    "[root@jhub3 rrdtool]# du -sh *\n",
    "763M    mac_water_100000000.rrd\n",
    "77M     mac_water_10000000.rrd\n",
    "7.7M    mac_water_1000000.rrd\n",
    "784K    mac_water_100000.rrd\n",
    "80K     mac_water_10000.rrd\n",
    "12K     mac_water_1000.rrd\n",
    "4.0K    mac_water_1.rrd"
   ]
  },
  {
   "cell_type": "markdown",
   "metadata": {},
   "source": [
    " # Graphite Whisper database\n",
    " \n",
    " https://www.infoq.com/articles/graphite-intro\n",
    "\n",
    "`whisper-create.py ./mac_water_100000000  1:100000000`\n",
    "\n",
    "`whisper-create.py ./mac_water_10000000  1:10000000`\n",
    "\n",
    "`whisper-create.py ./mac_water_1000000  1:1000000`\n",
    "\n",
    "`whisper-create.py ./mac_water_100000  1:100000`\n",
    "\n",
    "`whisper-create.py ./mac_water_10000  1:10000`\n",
    "\n",
    "`whisper-create.py ./mac_water_1000  1:1000`\n",
    "\n",
    "`whisper-create.py ./mac_water_1  1:1`\n",
    "\n",
    " [root@jhub3 database]# du -sh *\n",
    "4.0K    mac_water_1\n",
    "12K     mac_water_1000\n",
    "120K    mac_water_10000\n",
    "1.2M    mac_water_100000\n",
    "12M     mac_water_1000000\n",
    "115M    mac_water_10000000\n",
    "1.2G    mac_water_100000000\n",
    " "
   ]
  }
 ],
 "metadata": {
  "kernelspec": {
   "display_name": "Python 3",
   "language": "python",
   "name": "python3"
  },
  "language_info": {
   "codemirror_mode": {
    "name": "ipython",
    "version": 3
   },
   "file_extension": ".py",
   "mimetype": "text/x-python",
   "name": "python",
   "nbconvert_exporter": "python",
   "pygments_lexer": "ipython3",
   "version": "3.5.2"
  }
 },
 "nbformat": 4,
 "nbformat_minor": 2
}
