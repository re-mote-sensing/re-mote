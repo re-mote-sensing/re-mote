{
  "nbformat": 4,
  "nbformat_minor": 0,
  "metadata": {
    "colab": {
      "provenance": []
    },
    "kernelspec": {
      "name": "python3",
      "display_name": "Python 3"
    },
    "language_info": {
      "name": "python"
    }
  },
  "cells": [
    {
      "cell_type": "code",
      "execution_count": null,
      "metadata": {
        "id": "dWJQdSE7T-Nr"
      },
      "outputs": [],
      "source": [
        "import requests\n",
        "\n",
        "#Post the data to post to the server\n",
        "def postData(filePath, URL, apiKey):\n",
        "    payload={}\n",
        "    headers = {}\n",
        "    #Read the data to send from csv\n",
        "    toSend = open(filePath, \"r\")\n",
        "    toSendLines = toSend.readlines()\n",
        "    toSend.close()\n",
        "\n",
        "    id = filePath[filePath.index('node'):].replace(\".csv\",\"\").replace(\"node\",\"\")\n",
        "    name = toSendLines[0].replace(\"\\n\",\"\")\n",
        "    sensor_type = (toSendLines[1].strip()).split(',')\n",
        "    \n",
        "    #Loop through every line of node file\n",
        "    for i in toSendLines[2:]:\n",
        "      curr = (i.strip()).split(',')\n",
        "\n",
        "      timestamp = curr[0]\n",
        "      latitude = curr[1]\n",
        "      longitude = curr[2]\n",
        "\n",
        "      # Send node info\n",
        "      url = URL + \"sensor/info?k=\" + apiKey + \"&id=\" + id + \"&name=\" + name + \"&coords=\" +latitude + \",\" + longitude + \"&time=\" + timestamp\n",
        "      print(url)\n",
        "      response = requests.request(\"POST\", url, headers=headers, data=payload)\n",
        "\n",
        "      counter = 3\n",
        "      for j in curr[3:]:\n",
        "        # Send sensor data\n",
        "        url = URL + \"sensor/data?k=\" + apiKey + \"&id=\" + id + \"&time=\" + timestamp + \"&type=\" + sensor_type[counter] + \"&value=\" + j\n",
        "        print(url)\n",
        "        response = requests.request(\"POST\", url, headers=headers, data=payload)\n",
        "        counter+=1\n",
        "    \n",
        "#-------------------------------------------------\n",
        "\n",
        "#Get URL\n",
        "URL = input(\"Website URL: \")\n",
        "if (URL == ''):\n",
        "    URL = 'http://macwater.cas.mcmaster.ca'\n",
        "if (URL[-1] != '/'):\n",
        "    URL += '/'\n",
        "\n",
        "apiKey = \"remote\"\n",
        "\n",
        "# Get file path\n",
        "# filePath = input(\"Path to nodexxx.csv file (ex: /node1.csv): \")\n",
        "# if (filePath[-1] != '/'):\n",
        "#     filePath += '/'\n",
        "filePath = \"/node6.csv\"\n",
        "\n",
        "postData(filePath, URL, apiKey)\n",
        "\n",
        "#URL for current setup: https://macwater.cas.mcmaster.ca"
      ]
    }
  ]
}